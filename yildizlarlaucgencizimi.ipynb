{
 "cells": [
  {
   "cell_type": "code",
   "execution_count": null,
   "metadata": {},
   "outputs": [],
   "source": [
    "rows=5\n",
    "for i in range(1, rows + 1):\n",
    "  for j in range(1, i +1):\n",
    "    print(\"*\", end=\" \")\n",
    "  print() \n",
    "\n",
    "rows=5\n",
    "for i in range(1, rows + 1):\n",
    "  print(\" \"*(rows-i)*2 + \"* \"*i,end=\" \")\n",
    "  print()\n",
    " \n",
    " \n",
    "rows=5\n",
    "for i in range(1, rows + 1):\n",
    "  print(\" \"*(rows-i) + \"* \"*i,end=\" \")\n",
    "  print()\n",
    "  \n",
    "rows=5\n",
    "for i in range(rows + 1, 1 , -1):\n",
    "  for j in range(1, i ):\n",
    "    print(\"*\", end=\" \")\n",
    "  print()\n",
    "  \n",
    "rows=5\n",
    "for i in range(rows , 0 , -1):\n",
    "  print(\" \"*2*(rows-i), \"* \" *i )"
   ]
  }
 ],
 "metadata": {
  "language_info": {
   "name": "python"
  },
  "orig_nbformat": 4
 },
 "nbformat": 4,
 "nbformat_minor": 2
}
