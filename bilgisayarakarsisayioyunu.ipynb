{
 "cells": [
  {
   "cell_type": "code",
   "execution_count": 1,
   "metadata": {},
   "outputs": [
    {
     "name": "stdout",
     "output_type": "stream",
     "text": [
      "daha büyük bir tahminde bulunmalısın\n",
      "daha büyük bir tahminde bulunmalısın\n",
      "daha küçük bir tahminde bulunmalısın\n",
      "daha büyük bir tahminde bulunmalısın\n",
      "daha büyük bir tahminde bulunmalısın\n",
      "daha büyük bir tahminde bulunmalısın\n",
      "kötü bir skor elde ettin\n"
     ]
    }
   ],
   "source": [
    "import random\n",
    "def guess(num):\n",
    "    count=1\n",
    "    rand_num = int(input(\"bir tahminde bulununuz\"))\n",
    "    while num!= rand_num:\n",
    "        count+=1\n",
    "        if num < rand_num:\n",
    "            print(\"daha küçük bir tahminde bulunmalısın\")\n",
    "        else:\n",
    "            print(\"daha büyük bir tahminde bulunmalısın\")\n",
    "        rand_num = int(input(\"bir tahminde bulununuz\"))\n",
    "    if count == 1 :\n",
    "        print(\"tebrikler, sayı tahmin oyununda gerçekten çok iyisin\")\n",
    "    elif count < 5:\n",
    "        print(\"iyi sayılırsın\")\n",
    "    else:\n",
    "        print(\"kötü bir skor elde ettin\")\n",
    "guess(random.randint(1,100))"
   ]
  }
 ],
 "metadata": {
  "interpreter": {
   "hash": "1aff509eddd52b479e30c10ccc90912ef5d8379779642e264ace48cd13cf40bb"
  },
  "kernelspec": {
   "display_name": "Python 3.9.12 ('base')",
   "language": "python",
   "name": "python3"
  },
  "language_info": {
   "codemirror_mode": {
    "name": "ipython",
    "version": 3
   },
   "file_extension": ".py",
   "mimetype": "text/x-python",
   "name": "python",
   "nbconvert_exporter": "python",
   "pygments_lexer": "ipython3",
   "version": "3.9.12"
  },
  "orig_nbformat": 4
 },
 "nbformat": 4,
 "nbformat_minor": 2
}
