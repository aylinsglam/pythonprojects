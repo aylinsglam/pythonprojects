{
 "cells": [
  {
   "cell_type": "code",
   "execution_count": null,
   "metadata": {},
   "outputs": [],
   "source": [
    "import random\n",
    "def computer_guess(num):\n",
    "    start, end = 1, num\n",
    "    back = \" \"\n",
    "    while back != \"d\":\n",
    "        if start<=end:\n",
    "            guess=random.randint(start,end)\n",
    "        else:\n",
    "            guess= start\n",
    "\n",
    "        back = input(f\"tahminde bulunduğum değer {guess} , aklında tuttuğun değerden büyükse b küçükse k doğruysa d yaz\")\n",
    "        if back == \"b\":\n",
    "            end = guess-1\n",
    "        elif back == \"k\":\n",
    "            start = guess + 1\n",
    "    else:\n",
    "        print(\"tebrikler doğru tahminde bulundum\")\n",
    "computer_guess(9)"
   ]
  }
 ],
 "metadata": {
  "language_info": {
   "name": "python"
  },
  "orig_nbformat": 4
 },
 "nbformat": 4,
 "nbformat_minor": 2
}
