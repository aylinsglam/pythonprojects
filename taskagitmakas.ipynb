{
 "cells": [
  {
   "cell_type": "code",
   "execution_count": null,
   "metadata": {},
   "outputs": [],
   "source": [
    "import random\n",
    "\n",
    "player_score, computer_score = 0, 0\n",
    "\n",
    "def print_result(computer_choice, winner = \"Bilgisayar\"):\n",
    "    global computer_score, player_score\n",
    "    print(f'Bilgisayarın Seçimi: {computer_choice}\\nKazanan: {winner}')\n",
    "\n",
    "    if winner == \"Bilgisayar\":\n",
    "        computer_score += 100\n",
    "    else:\n",
    "        player_score += 100\n",
    "\n",
    "print(\"Taş Kağıt Makas Oyunumuza Hoş Geldiniz!\\n\" + (\"-\" * 39))\n",
    "\n",
    "while True:\n",
    "    print(\"\\n 1 -> Taş\\n 2 -> Kağıt\\n 3 -> Makas\\n Oyundan çıkmak isterseniz bu değerler dışında bir değer giriniz\")\n",
    "    player_choice = int(input(\"Seçiminizi Yapınız: \"))\n",
    "    computer_choice = random.choice([1, 2, 3])\n",
    "    \n",
    "    if player_choice == computer_choice:\n",
    "        print(\"Berabere, yeniden oynayınız\")\n",
    "    elif player_choice == 1:\n",
    "        if computer_choice == 2:\n",
    "            print_result(computer_choice,\"Bilgisayar\")\n",
    "        else:\n",
    "            print_result(computer_choice, \"Kullanıcı\")\n",
    "    elif player_choice == 2:\n",
    "        if computer_choice == 1:\n",
    "            print_result(computer_choice, \"Kullanıcı\")\n",
    "        else:\n",
    "            print_result(computer_choice,\"Bilgisayar\")\n",
    "    elif player_choice == 3:\n",
    "        if computer_choice == 1:\n",
    "            print_result(computer_choice,\"Bilgisayar\")\n",
    "        else:\n",
    "            print_result(computer_choice, \"Kullanıcı\")\n",
    "    else:\n",
    "        break\n",
    "\n",
    "print(f'\\nKullanıcı skoru: {player_score}\\nBilgisayarın skoru: {computer_score}')\n",
    "\n"
   ]
  }
 ],
 "metadata": {
  "language_info": {
   "name": "python"
  },
  "orig_nbformat": 4
 },
 "nbformat": 4,
 "nbformat_minor": 2
}
