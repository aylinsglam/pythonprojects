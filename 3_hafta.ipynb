{
 "cells": [
  {
   "cell_type": "code",
   "execution_count": 2,
   "metadata": {},
   "outputs": [
    {
     "name": "stdout",
     "output_type": "stream",
     "text": [
      "12\n"
     ]
    }
   ],
   "source": [
    "#iki sayının toplamını döndüren bir fonksiyon yazalım..\n",
    "def toplam(x , y):\n",
    "    result = x + y\n",
    "    return result\n",
    "result = toplam(3, 9)\n",
    "print(result)"
   ]
  },
  {
   "cell_type": "code",
   "execution_count": 5,
   "metadata": {},
   "outputs": [
    {
     "name": "stdout",
     "output_type": "stream",
     "text": [
      "12\n",
      "8\n"
     ]
    }
   ],
   "source": [
    "def calculater (a , b):\n",
    "    add = a+b\n",
    "    sub =a-b\n",
    "    mult = a*b\n",
    "    div= a/b\n",
    "    indiv =a//b\n",
    "    return add , sub , mult , div , indiv\n",
    "x , y, z , v , c = calculater ( 10 , 2)\n",
    "print(x)\n",
    "print(y)"
   ]
  },
  {
   "cell_type": "code",
   "execution_count": 7,
   "metadata": {},
   "outputs": [
    {
     "name": "stdout",
     "output_type": "stream",
     "text": [
      "Fonksiyon içerisinde global değişken GLOBAL, yerel değişken YEREL\n"
     ]
    },
    {
     "ename": "NameError",
     "evalue": "name 'loc_var' is not defined",
     "output_type": "error",
     "traceback": [
      "\u001b[1;31m---------------------------------------------------------------------------\u001b[0m",
      "\u001b[1;31mNameError\u001b[0m                                 Traceback (most recent call last)",
      "\u001b[1;32mc:\\Users\\aylin\\Desktop\\pythonproject\\pythonprojects\\3_hafta.ipynb Cell 3'\u001b[0m in \u001b[0;36m<cell line: 6>\u001b[1;34m()\u001b[0m\n\u001b[0;32m      <a href='vscode-notebook-cell:/c%3A/Users/aylin/Desktop/pythonproject/pythonprojects/3_hafta.ipynb#ch0000002?line=3'>4</a>\u001b[0m     \u001b[39mprint\u001b[39m(\u001b[39m\"\u001b[39m\u001b[39mFonksiyon içerisinde global değişken \u001b[39m\u001b[39m{}\u001b[39;00m\u001b[39m, yerel değişken \u001b[39m\u001b[39m{}\u001b[39;00m\u001b[39m\"\u001b[39m\u001b[39m.\u001b[39mformat(glob_var,loc_var))\n\u001b[0;32m      <a href='vscode-notebook-cell:/c%3A/Users/aylin/Desktop/pythonproject/pythonprojects/3_hafta.ipynb#ch0000002?line=4'>5</a>\u001b[0m func()\n\u001b[1;32m----> <a href='vscode-notebook-cell:/c%3A/Users/aylin/Desktop/pythonproject/pythonprojects/3_hafta.ipynb#ch0000002?line=5'>6</a>\u001b[0m \u001b[39mprint\u001b[39m(\u001b[39m\"\u001b[39m\u001b[39mFonksiyon içerisinde global değişken \u001b[39m\u001b[39m{}\u001b[39;00m\u001b[39m, yerel değişken \u001b[39m\u001b[39m{}\u001b[39;00m\u001b[39m\"\u001b[39m\u001b[39m.\u001b[39mformat(glob_var,loc_var))\n",
      "\u001b[1;31mNameError\u001b[0m: name 'loc_var' is not defined"
     ]
    }
   ],
   "source": [
    "glob_var = \"GLOBAL\"\n",
    "def func():\n",
    "    loc_var = \"YEREL\"\n",
    "    print(\"Fonksiyon içerisinde global değişken {}, yerel değişken {}\".format(glob_var,loc_var))\n",
    "func()\n",
    "print(\"Fonksiyon içerisinde global değişken {}, yerel değişken {}\".format(glob_var,loc_var))"
   ]
  },
  {
   "cell_type": "code",
   "execution_count": null,
   "metadata": {},
   "outputs": [],
   "source": [
    "def add(*numbers):\n",
    "    total = 0\n",
    "    for i in numbers:\n",
    "        total += i\n",
    "    print(\"Toplam: \" , total)\n",
    "add()"
   ]
  },
  {
   "cell_type": "code",
   "execution_count": 15,
   "metadata": {},
   "outputs": [
    {
     "ename": "KeyboardInterrupt",
     "evalue": "Interrupted by user",
     "output_type": "error",
     "traceback": [
      "\u001b[1;31m---------------------------------------------------------------------------\u001b[0m",
      "\u001b[1;31mKeyboardInterrupt\u001b[0m                         Traceback (most recent call last)",
      "\u001b[1;32mc:\\Users\\aylin\\Desktop\\pythonproject\\pythonprojects\\3_hafta.ipynb Cell 5'\u001b[0m in \u001b[0;36m<cell line: 7>\u001b[1;34m()\u001b[0m\n\u001b[0;32m      <a href='vscode-notebook-cell:/c%3A/Users/aylin/Desktop/pythonproject/pythonprojects/3_hafta.ipynb#ch0000004?line=0'>1</a>\u001b[0m \u001b[39m#kullanıcının girdiği 2 sayı arasındaki çift sayıları ekrana\u001b[39;00m\n\u001b[0;32m      <a href='vscode-notebook-cell:/c%3A/Users/aylin/Desktop/pythonproject/pythonprojects/3_hafta.ipynb#ch0000004?line=1'>2</a>\u001b[0m \u001b[39m#yazdıralım ve sayıların ortalamasını ekrana yazalım\u001b[39;00m\n\u001b[0;32m      <a href='vscode-notebook-cell:/c%3A/Users/aylin/Desktop/pythonproject/pythonprojects/3_hafta.ipynb#ch0000004?line=2'>3</a>\u001b[0m \u001b[39m\"\"\"\u001b[39;00m\n\u001b[0;32m      <a href='vscode-notebook-cell:/c%3A/Users/aylin/Desktop/pythonproject/pythonprojects/3_hafta.ipynb#ch0000004?line=3'>4</a>\u001b[0m \u001b[39mfirst = int(input(\" ilk sayı\"))\u001b[39;00m\n\u001b[0;32m      <a href='vscode-notebook-cell:/c%3A/Users/aylin/Desktop/pythonproject/pythonprojects/3_hafta.ipynb#ch0000004?line=4'>5</a>\u001b[0m \u001b[39mlast = int(input(\" ikinci\"))\u001b[39;00m\n\u001b[0;32m      <a href='vscode-notebook-cell:/c%3A/Users/aylin/Desktop/pythonproject/pythonprojects/3_hafta.ipynb#ch0000004?line=5'>6</a>\u001b[0m \u001b[39m\"\"\"\u001b[39;00m\n\u001b[1;32m----> <a href='vscode-notebook-cell:/c%3A/Users/aylin/Desktop/pythonproject/pythonprojects/3_hafta.ipynb#ch0000004?line=6'>7</a>\u001b[0m a \u001b[39m=\u001b[39m \u001b[39mint\u001b[39m(\u001b[39minput\u001b[39;49m(\u001b[39m\"\u001b[39;49m\u001b[39milk: \u001b[39;49m\u001b[39m\"\u001b[39;49m))\n\u001b[0;32m      <a href='vscode-notebook-cell:/c%3A/Users/aylin/Desktop/pythonproject/pythonprojects/3_hafta.ipynb#ch0000004?line=7'>8</a>\u001b[0m b \u001b[39m=\u001b[39m \u001b[39mint\u001b[39m(\u001b[39minput\u001b[39m(\u001b[39m\"\u001b[39m\u001b[39miki:\u001b[39m\u001b[39m\"\u001b[39m))\n\u001b[0;32m      <a href='vscode-notebook-cell:/c%3A/Users/aylin/Desktop/pythonproject/pythonprojects/3_hafta.ipynb#ch0000004?line=8'>9</a>\u001b[0m \u001b[39mdef\u001b[39;00m \u001b[39mcift\u001b[39m(first, last):\n",
      "File \u001b[1;32mc:\\Users\\aylin\\anaconda3\\lib\\site-packages\\ipykernel\\kernelbase.py:1075\u001b[0m, in \u001b[0;36mKernel.raw_input\u001b[1;34m(self, prompt)\u001b[0m\n\u001b[0;32m   <a href='file:///c%3A/Users/aylin/anaconda3/lib/site-packages/ipykernel/kernelbase.py?line=1070'>1071</a>\u001b[0m \u001b[39mif\u001b[39;00m \u001b[39mnot\u001b[39;00m \u001b[39mself\u001b[39m\u001b[39m.\u001b[39m_allow_stdin:\n\u001b[0;32m   <a href='file:///c%3A/Users/aylin/anaconda3/lib/site-packages/ipykernel/kernelbase.py?line=1071'>1072</a>\u001b[0m     \u001b[39mraise\u001b[39;00m StdinNotImplementedError(\n\u001b[0;32m   <a href='file:///c%3A/Users/aylin/anaconda3/lib/site-packages/ipykernel/kernelbase.py?line=1072'>1073</a>\u001b[0m         \u001b[39m\"\u001b[39m\u001b[39mraw_input was called, but this frontend does not support input requests.\u001b[39m\u001b[39m\"\u001b[39m\n\u001b[0;32m   <a href='file:///c%3A/Users/aylin/anaconda3/lib/site-packages/ipykernel/kernelbase.py?line=1073'>1074</a>\u001b[0m     )\n\u001b[1;32m-> <a href='file:///c%3A/Users/aylin/anaconda3/lib/site-packages/ipykernel/kernelbase.py?line=1074'>1075</a>\u001b[0m \u001b[39mreturn\u001b[39;00m \u001b[39mself\u001b[39;49m\u001b[39m.\u001b[39;49m_input_request(\n\u001b[0;32m   <a href='file:///c%3A/Users/aylin/anaconda3/lib/site-packages/ipykernel/kernelbase.py?line=1075'>1076</a>\u001b[0m     \u001b[39mstr\u001b[39;49m(prompt),\n\u001b[0;32m   <a href='file:///c%3A/Users/aylin/anaconda3/lib/site-packages/ipykernel/kernelbase.py?line=1076'>1077</a>\u001b[0m     \u001b[39mself\u001b[39;49m\u001b[39m.\u001b[39;49m_parent_ident[\u001b[39m\"\u001b[39;49m\u001b[39mshell\u001b[39;49m\u001b[39m\"\u001b[39;49m],\n\u001b[0;32m   <a href='file:///c%3A/Users/aylin/anaconda3/lib/site-packages/ipykernel/kernelbase.py?line=1077'>1078</a>\u001b[0m     \u001b[39mself\u001b[39;49m\u001b[39m.\u001b[39;49mget_parent(\u001b[39m\"\u001b[39;49m\u001b[39mshell\u001b[39;49m\u001b[39m\"\u001b[39;49m),\n\u001b[0;32m   <a href='file:///c%3A/Users/aylin/anaconda3/lib/site-packages/ipykernel/kernelbase.py?line=1078'>1079</a>\u001b[0m     password\u001b[39m=\u001b[39;49m\u001b[39mFalse\u001b[39;49;00m,\n\u001b[0;32m   <a href='file:///c%3A/Users/aylin/anaconda3/lib/site-packages/ipykernel/kernelbase.py?line=1079'>1080</a>\u001b[0m )\n",
      "File \u001b[1;32mc:\\Users\\aylin\\anaconda3\\lib\\site-packages\\ipykernel\\kernelbase.py:1120\u001b[0m, in \u001b[0;36mKernel._input_request\u001b[1;34m(self, prompt, ident, parent, password)\u001b[0m\n\u001b[0;32m   <a href='file:///c%3A/Users/aylin/anaconda3/lib/site-packages/ipykernel/kernelbase.py?line=1116'>1117</a>\u001b[0m             \u001b[39mbreak\u001b[39;00m\n\u001b[0;32m   <a href='file:///c%3A/Users/aylin/anaconda3/lib/site-packages/ipykernel/kernelbase.py?line=1117'>1118</a>\u001b[0m \u001b[39mexcept\u001b[39;00m \u001b[39mKeyboardInterrupt\u001b[39;00m:\n\u001b[0;32m   <a href='file:///c%3A/Users/aylin/anaconda3/lib/site-packages/ipykernel/kernelbase.py?line=1118'>1119</a>\u001b[0m     \u001b[39m# re-raise KeyboardInterrupt, to truncate traceback\u001b[39;00m\n\u001b[1;32m-> <a href='file:///c%3A/Users/aylin/anaconda3/lib/site-packages/ipykernel/kernelbase.py?line=1119'>1120</a>\u001b[0m     \u001b[39mraise\u001b[39;00m \u001b[39mKeyboardInterrupt\u001b[39;00m(\u001b[39m\"\u001b[39m\u001b[39mInterrupted by user\u001b[39m\u001b[39m\"\u001b[39m) \u001b[39mfrom\u001b[39;00m \u001b[39mNone\u001b[39m\n\u001b[0;32m   <a href='file:///c%3A/Users/aylin/anaconda3/lib/site-packages/ipykernel/kernelbase.py?line=1120'>1121</a>\u001b[0m \u001b[39mexcept\u001b[39;00m \u001b[39mException\u001b[39;00m:\n\u001b[0;32m   <a href='file:///c%3A/Users/aylin/anaconda3/lib/site-packages/ipykernel/kernelbase.py?line=1121'>1122</a>\u001b[0m     \u001b[39mself\u001b[39m\u001b[39m.\u001b[39mlog\u001b[39m.\u001b[39mwarning(\u001b[39m\"\u001b[39m\u001b[39mInvalid Message:\u001b[39m\u001b[39m\"\u001b[39m, exc_info\u001b[39m=\u001b[39m\u001b[39mTrue\u001b[39;00m)\n",
      "\u001b[1;31mKeyboardInterrupt\u001b[0m: Interrupted by user"
     ]
    }
   ],
   "source": [
    "#kullanıcının girdiği 2 sayı arasındaki çift sayıları ekrana\n",
    "#yazdıralım ve sayıların ortalamasını ekrana yazalım\n",
    "\"\"\"\n",
    "first = int(input(\" ilk sayı\"))\n",
    "last = int(input(\" ikinci\"))\n",
    "\"\"\"\n",
    "a = int(input(\"ilk: \"))\n",
    "b = int(input(\"iki:\"))\n",
    "def cift(first, last):\n",
    "    counter = 0\n",
    "    total = 0\n",
    "    for i in range (first, last):\n",
    "        if i%2==0:\n",
    "            print(i, end=\" \")\n",
    "            counter+=1\n",
    "            total+=i\n",
    "    result = total/counter\n",
    "    return result\n",
    "print(result)\n",
    "cift(a ,b)"
   ]
  },
  {
   "cell_type": "code",
   "execution_count": 16,
   "metadata": {},
   "outputs": [],
   "source": [
    "#bir sayının asal olup olmadığını bulup ekrana yazdırınız\n",
    "def asalmi(x):\n",
    "    counter = 0\n",
    "    for i in range(2, x):\n",
    "        if x%i==0:\n",
    "            counter+=1\n",
    "    if counter==0:\n",
    "        return \"asal\"\n",
    "    else:\n",
    "        return \"asal değil\"\n"
   ]
  },
  {
   "cell_type": "code",
   "execution_count": 18,
   "metadata": {},
   "outputs": [
    {
     "data": {
      "text/plain": [
       "'asal değil'"
      ]
     },
     "execution_count": 18,
     "metadata": {},
     "output_type": "execute_result"
    }
   ],
   "source": [
    "asalmi(18)\n"
   ]
  },
  {
   "cell_type": "code",
   "execution_count": 19,
   "metadata": {},
   "outputs": [],
   "source": [
    "def asalcarpanlar(x):\n",
    "    for i in range (1, x):\n",
    "        if i is asalmi and x%i==0:\n",
    "            print(i, end=\" \")"
   ]
  },
  {
   "cell_type": "code",
   "execution_count": 21,
   "metadata": {},
   "outputs": [
    {
     "name": "stdout",
     "output_type": "stream",
     "text": [
      "None\n"
     ]
    }
   ],
   "source": [
    "\n",
    "print(asalcarpanlar(30))"
   ]
  },
  {
   "cell_type": "code",
   "execution_count": 23,
   "metadata": {},
   "outputs": [
    {
     "name": "stdout",
     "output_type": "stream",
     "text": [
      "tebrikler buldun\n"
     ]
    }
   ],
   "source": [
    "def guess(x):\n",
    "    y = 5\n",
    "    a = 0\n",
    "    while a!=y:\n",
    "        a = int(input(\"Hadi tahminde bulun :\"))\n",
    "    else:\n",
    "        print(\"tebrikler buldun\")\n",
    "\n",
    "guess(a)"
   ]
  },
  {
   "cell_type": "code",
   "execution_count": 26,
   "metadata": {},
   "outputs": [
    {
     "ename": "ValueError",
     "evalue": "empty range for randrange() (10, 10, 0)",
     "output_type": "error",
     "traceback": [
      "\u001b[1;31m---------------------------------------------------------------------------\u001b[0m",
      "\u001b[1;31mValueError\u001b[0m                                Traceback (most recent call last)",
      "\u001b[1;32mc:\\Users\\aylin\\Desktop\\pythonproject\\pythonprojects\\3_hafta.ipynb Cell 11'\u001b[0m in \u001b[0;36m<cell line: 15>\u001b[1;34m()\u001b[0m\n\u001b[0;32m     <a href='vscode-notebook-cell:/c%3A/Users/aylin/Desktop/pythonproject/pythonprojects/3_hafta.ipynb#ch0000010?line=12'>13</a>\u001b[0m     \u001b[39melse\u001b[39;00m:\n\u001b[0;32m     <a href='vscode-notebook-cell:/c%3A/Users/aylin/Desktop/pythonproject/pythonprojects/3_hafta.ipynb#ch0000010?line=13'>14</a>\u001b[0m         \u001b[39mprint\u001b[39m(\u001b[39m\"\u001b[39m\u001b[39mtebrikler doğru tahminde bulundum\u001b[39m\u001b[39m\"\u001b[39m)\n\u001b[1;32m---> <a href='vscode-notebook-cell:/c%3A/Users/aylin/Desktop/pythonproject/pythonprojects/3_hafta.ipynb#ch0000010?line=14'>15</a>\u001b[0m computer_guess(\u001b[39m9\u001b[39;49m)\n",
      "\u001b[1;32mc:\\Users\\aylin\\Desktop\\pythonproject\\pythonprojects\\3_hafta.ipynb Cell 11'\u001b[0m in \u001b[0;36mcomputer_guess\u001b[1;34m(num)\u001b[0m\n\u001b[0;32m      <a href='vscode-notebook-cell:/c%3A/Users/aylin/Desktop/pythonproject/pythonprojects/3_hafta.ipynb#ch0000010?line=3'>4</a>\u001b[0m back \u001b[39m=\u001b[39m \u001b[39m\"\u001b[39m\u001b[39m \u001b[39m\u001b[39m\"\u001b[39m\n\u001b[0;32m      <a href='vscode-notebook-cell:/c%3A/Users/aylin/Desktop/pythonproject/pythonprojects/3_hafta.ipynb#ch0000010?line=4'>5</a>\u001b[0m \u001b[39mwhile\u001b[39;00m back \u001b[39m!=\u001b[39m \u001b[39m\"\u001b[39m\u001b[39md\u001b[39m\u001b[39m\"\u001b[39m:\n\u001b[1;32m----> <a href='vscode-notebook-cell:/c%3A/Users/aylin/Desktop/pythonproject/pythonprojects/3_hafta.ipynb#ch0000010?line=5'>6</a>\u001b[0m     guess \u001b[39m=\u001b[39m random\u001b[39m.\u001b[39;49mrandint(start, end)\n\u001b[0;32m      <a href='vscode-notebook-cell:/c%3A/Users/aylin/Desktop/pythonproject/pythonprojects/3_hafta.ipynb#ch0000010?line=7'>8</a>\u001b[0m     back \u001b[39m=\u001b[39m \u001b[39minput\u001b[39m(\u001b[39mf\u001b[39m\u001b[39m\"\u001b[39m\u001b[39mtahminde bulunduğum değer \u001b[39m\u001b[39m{\u001b[39;00mguess\u001b[39m}\u001b[39;00m\u001b[39m , aklında tuttuğun değerden büyükse b küçükse k doğruysa d yaz\u001b[39m\u001b[39m\"\u001b[39m)\n\u001b[0;32m      <a href='vscode-notebook-cell:/c%3A/Users/aylin/Desktop/pythonproject/pythonprojects/3_hafta.ipynb#ch0000010?line=8'>9</a>\u001b[0m     \u001b[39mif\u001b[39;00m back \u001b[39m==\u001b[39m \u001b[39m\"\u001b[39m\u001b[39mb\u001b[39m\u001b[39m\"\u001b[39m:\n",
      "File \u001b[1;32mc:\\Users\\aylin\\anaconda3\\lib\\random.py:338\u001b[0m, in \u001b[0;36mRandom.randint\u001b[1;34m(self, a, b)\u001b[0m\n\u001b[0;32m    <a href='file:///c%3A/Users/aylin/anaconda3/lib/random.py?line=333'>334</a>\u001b[0m \u001b[39mdef\u001b[39;00m \u001b[39mrandint\u001b[39m(\u001b[39mself\u001b[39m, a, b):\n\u001b[0;32m    <a href='file:///c%3A/Users/aylin/anaconda3/lib/random.py?line=334'>335</a>\u001b[0m     \u001b[39m\"\"\"Return random integer in range [a, b], including both end points.\u001b[39;00m\n\u001b[0;32m    <a href='file:///c%3A/Users/aylin/anaconda3/lib/random.py?line=335'>336</a>\u001b[0m \u001b[39m    \"\"\"\u001b[39;00m\n\u001b[1;32m--> <a href='file:///c%3A/Users/aylin/anaconda3/lib/random.py?line=337'>338</a>\u001b[0m     \u001b[39mreturn\u001b[39;00m \u001b[39mself\u001b[39;49m\u001b[39m.\u001b[39;49mrandrange(a, b\u001b[39m+\u001b[39;49m\u001b[39m1\u001b[39;49m)\n",
      "File \u001b[1;32mc:\\Users\\aylin\\anaconda3\\lib\\random.py:316\u001b[0m, in \u001b[0;36mRandom.randrange\u001b[1;34m(self, start, stop, step)\u001b[0m\n\u001b[0;32m    <a href='file:///c%3A/Users/aylin/anaconda3/lib/random.py?line=313'>314</a>\u001b[0m     \u001b[39mreturn\u001b[39;00m istart \u001b[39m+\u001b[39m \u001b[39mself\u001b[39m\u001b[39m.\u001b[39m_randbelow(width)\n\u001b[0;32m    <a href='file:///c%3A/Users/aylin/anaconda3/lib/random.py?line=314'>315</a>\u001b[0m \u001b[39mif\u001b[39;00m step \u001b[39m==\u001b[39m \u001b[39m1\u001b[39m:\n\u001b[1;32m--> <a href='file:///c%3A/Users/aylin/anaconda3/lib/random.py?line=315'>316</a>\u001b[0m     \u001b[39mraise\u001b[39;00m \u001b[39mValueError\u001b[39;00m(\u001b[39m\"\u001b[39m\u001b[39mempty range for randrange() (\u001b[39m\u001b[39m%d\u001b[39;00m\u001b[39m, \u001b[39m\u001b[39m%d\u001b[39;00m\u001b[39m, \u001b[39m\u001b[39m%d\u001b[39;00m\u001b[39m)\u001b[39m\u001b[39m\"\u001b[39m \u001b[39m%\u001b[39m (istart, istop, width))\n\u001b[0;32m    <a href='file:///c%3A/Users/aylin/anaconda3/lib/random.py?line=317'>318</a>\u001b[0m \u001b[39m# Non-unit step argument supplied.\u001b[39;00m\n\u001b[0;32m    <a href='file:///c%3A/Users/aylin/anaconda3/lib/random.py?line=318'>319</a>\u001b[0m istep \u001b[39m=\u001b[39m \u001b[39mint\u001b[39m(step)\n",
      "\u001b[1;31mValueError\u001b[0m: empty range for randrange() (10, 10, 0)"
     ]
    }
   ],
   "source": [
    "import random\n",
    "def computer_guess(num):\n",
    "    start, end = 1, num\n",
    "    back = \" \"\n",
    "    while back != \"d\":\n",
    "        if start<=end:\n",
    "            guess=random.randint(start,end)\n",
    "        else:\n",
    "            guess= start\n",
    "\n",
    "        back = input(f\"tahminde bulunduğum değer {guess} , aklında tuttuğun değerden büyükse b küçükse k doğruysa d yaz\")\n",
    "        if back == \"b\":\n",
    "            end == guess-1\n",
    "        elif back == \"k\":\n",
    "            start = guess + 1\n",
    "    else:\n",
    "        print(\"tebrikler doğru tahminde bulundum\")\n",
    "computer_guess(9)"
   ]
  },
  {
   "cell_type": "code",
   "execution_count": 31,
   "metadata": {},
   "outputs": [
    {
     "name": "stdout",
     "output_type": "stream",
     "text": [
      "Taş Kağıt Makas Oyunumuza Hoş Geldiniz!\n",
      "---------------------------------------\n",
      "\n",
      " 1 -> Taş\n",
      " 2 -> Kağıt\n",
      " 3 -> Makas\n",
      " Oyundan çıkmak isterseniz bu değerler dışında bir değer giriniz\n",
      "Berabere, yeniden oynayınız\n",
      "\n",
      " 1 -> Taş\n",
      " 2 -> Kağıt\n",
      " 3 -> Makas\n",
      " Oyundan çıkmak isterseniz bu değerler dışında bir değer giriniz\n",
      "Bilgisayarın Seçimi: 1\n",
      "Kazanan: Kullanıcı\n"
     ]
    },
    {
     "ename": "UnboundLocalError",
     "evalue": "local variable 'player_score' referenced before assignment",
     "output_type": "error",
     "traceback": [
      "\u001b[1;31m---------------------------------------------------------------------------\u001b[0m",
      "\u001b[1;31mUnboundLocalError\u001b[0m                         Traceback (most recent call last)",
      "\u001b[1;32mc:\\Users\\aylin\\Desktop\\pythonproject\\pythonprojects\\3_hafta.ipynb Cell 12'\u001b[0m in \u001b[0;36m<cell line: 16>\u001b[1;34m()\u001b[0m\n\u001b[0;32m     <a href='vscode-notebook-cell:/c%3A/Users/aylin/Desktop/pythonproject/pythonprojects/3_hafta.ipynb#ch0000011?line=26'>27</a>\u001b[0m \u001b[39melif\u001b[39;00m player_choice \u001b[39m==\u001b[39m \u001b[39m2\u001b[39m:\n\u001b[0;32m     <a href='vscode-notebook-cell:/c%3A/Users/aylin/Desktop/pythonproject/pythonprojects/3_hafta.ipynb#ch0000011?line=27'>28</a>\u001b[0m     \u001b[39mif\u001b[39;00m computer_choice \u001b[39m==\u001b[39m \u001b[39m1\u001b[39m:\n\u001b[1;32m---> <a href='vscode-notebook-cell:/c%3A/Users/aylin/Desktop/pythonproject/pythonprojects/3_hafta.ipynb#ch0000011?line=28'>29</a>\u001b[0m         print_result(computer_choice, \u001b[39m\"\u001b[39;49m\u001b[39mKullanıcı\u001b[39;49m\u001b[39m\"\u001b[39;49m)\n\u001b[0;32m     <a href='vscode-notebook-cell:/c%3A/Users/aylin/Desktop/pythonproject/pythonprojects/3_hafta.ipynb#ch0000011?line=29'>30</a>\u001b[0m     \u001b[39melse\u001b[39;00m:\n\u001b[0;32m     <a href='vscode-notebook-cell:/c%3A/Users/aylin/Desktop/pythonproject/pythonprojects/3_hafta.ipynb#ch0000011?line=30'>31</a>\u001b[0m         print_result(computer_choice)\n",
      "\u001b[1;32mc:\\Users\\aylin\\Desktop\\pythonproject\\pythonprojects\\3_hafta.ipynb Cell 12'\u001b[0m in \u001b[0;36mprint_result\u001b[1;34m(computer_choice, winner)\u001b[0m\n\u001b[0;32m      <a href='vscode-notebook-cell:/c%3A/Users/aylin/Desktop/pythonproject/pythonprojects/3_hafta.ipynb#ch0000011?line=8'>9</a>\u001b[0m     computer_score \u001b[39m+\u001b[39m\u001b[39m=\u001b[39m \u001b[39m100\u001b[39m\n\u001b[0;32m     <a href='vscode-notebook-cell:/c%3A/Users/aylin/Desktop/pythonproject/pythonprojects/3_hafta.ipynb#ch0000011?line=9'>10</a>\u001b[0m \u001b[39melse\u001b[39;00m:\n\u001b[1;32m---> <a href='vscode-notebook-cell:/c%3A/Users/aylin/Desktop/pythonproject/pythonprojects/3_hafta.ipynb#ch0000011?line=10'>11</a>\u001b[0m     player_score \u001b[39m+\u001b[39m\u001b[39m=\u001b[39m \u001b[39m100\u001b[39m\n",
      "\u001b[1;31mUnboundLocalError\u001b[0m: local variable 'player_score' referenced before assignment"
     ]
    }
   ],
   "source": [
    "import random\n",
    "\n",
    "player_score, computer_score = 0, 0\n",
    "\n",
    "def print_result(computer_choice, winner = \"Bilgisayar\"):\n",
    "    global computer_score, player_score\n",
    "    print(f'Bilgisayarın Seçimi: {computer_choice}\\nKazanan: {winner}')\n",
    "\n",
    "    if winner == \"Bilgisayar\":\n",
    "        computer_score += 100\n",
    "    else:\n",
    "        player_score += 100\n",
    "\n",
    "print(\"Taş Kağıt Makas Oyunumuza Hoş Geldiniz!\\n\" + (\"-\" * 39))\n",
    "\n",
    "while True:\n",
    "    print(\"\\n 1 -> Taş\\n 2 -> Kağıt\\n 3 -> Makas\\n Oyundan çıkmak isterseniz bu değerler dışında bir değer giriniz\")\n",
    "    player_choice = int(input(\"Seçiminizi Yapınız: \"))\n",
    "    computer_choice = random.choice([1, 2, 3])\n",
    "    \n",
    "    if player_choice == computer_choice:\n",
    "        print(\"Berabere, yeniden oynayınız\")\n",
    "    elif player_choice == 1:\n",
    "        if computer_choice == 2:\n",
    "            print_result(computer_choice)\n",
    "        else:\n",
    "            print_result(computer_choice, \"Kullanıcı\")\n",
    "    elif player_choice == 2:\n",
    "        if computer_choice == 1:\n",
    "            print_result(computer_choice, \"Kullanıcı\")\n",
    "        else:\n",
    "            print_result(computer_choice)\n",
    "    elif player_choice == 3:\n",
    "        if computer_choice == 1:\n",
    "            print_result(computer_choice)\n",
    "        else:\n",
    "            print_result(computer_choice, \"Kullanıcı\")\n",
    "    else:\n",
    "        break\n",
    "\n",
    "print(f'\\nKullanıcı skoru: {player_score}\\nBilgisayarın skoru: {computer_score}')\n",
    "\n"
   ]
  },
  {
   "cell_type": "code",
   "execution_count": 32,
   "metadata": {},
   "outputs": [
    {
     "name": "stdout",
     "output_type": "stream",
     "text": [
      "120\n"
     ]
    }
   ],
   "source": [
    "#modeüller\n",
    "import math as m\n",
    "x = m.factorial(5)\n",
    "print(x)"
   ]
  },
  {
   "cell_type": "code",
   "execution_count": 33,
   "metadata": {},
   "outputs": [
    {
     "name": "stdout",
     "output_type": "stream",
     "text": [
      "120\n"
     ]
    }
   ],
   "source": [
    "from math import factorial\n",
    "print(factorial(5))"
   ]
  },
  {
   "cell_type": "code",
   "execution_count": 34,
   "metadata": {},
   "outputs": [
    {
     "name": "stdout",
     "output_type": "stream",
     "text": [
      "120\n"
     ]
    }
   ],
   "source": [
    "from math import factorial as f\n",
    "print(f(5))"
   ]
  },
  {
   "cell_type": "markdown",
   "metadata": {},
   "source": [
    "veri yapıları\n",
    "\n",
    "* list\n",
    "* tuple\n",
    "* set\n",
    "* dictionary\n",
    "\n"
   ]
  },
  {
   "cell_type": "markdown",
   "metadata": {},
   "source": [
    "**list**\n",
    "* index ile erişilebilirler, ordered yani sıralıdırlar. \n",
    "* değiştirilebilirlerdir (mutable) yani liste içine eklediğiniz bir veriyi değiştirebilirsiniz.\n",
    "* köşeli parantez içerisinde tanımlanır. [] liste elemanları virgül ile birbirinden ayrılır.\n",
    "* farklı tipte veriler içerebilir. string, int, float\n",
    "* aynı değere sahip iki öğeye sahip olabilirler. yani duplicate veri olabilirler"
   ]
  },
  {
   "cell_type": "code",
   "execution_count": 35,
   "metadata": {},
   "outputs": [],
   "source": [
    "list_int = [1, 2, 5, 6, 0]\n",
    "list_string = [\"Ceren\" , \"Ceyda\"]\n",
    "list_bool = [True, False]\n",
    "list_float = [3.14 , 12.7 , 87.3]\n",
    "list_mix = [\"Ceren\" , 2 , True , 3.14 , \"Ceyda\" , 6 , False]"
   ]
  },
  {
   "cell_type": "code",
   "execution_count": null,
   "metadata": {},
   "outputs": [],
   "source": [
    "#indekslere ve uzunluğa bak"
   ]
  },
  {
   "cell_type": "code",
   "execution_count": 36,
   "metadata": {},
   "outputs": [
    {
     "ename": "TypeError",
     "evalue": "list indices must be integers or slices, not float",
     "output_type": "error",
     "traceback": [
      "\u001b[1;31m---------------------------------------------------------------------------\u001b[0m",
      "\u001b[1;31mTypeError\u001b[0m                                 Traceback (most recent call last)",
      "\u001b[1;32mc:\\Users\\aylin\\Desktop\\pythonproject\\pythonprojects\\3_hafta.ipynb Cell 20'\u001b[0m in \u001b[0;36m<cell line: 1>\u001b[1;34m()\u001b[0m\n\u001b[1;32m----> <a href='vscode-notebook-cell:/c%3A/Users/aylin/Desktop/pythonproject/pythonprojects/3_hafta.ipynb#ch0000019?line=0'>1</a>\u001b[0m list_mix[\u001b[39m4.5\u001b[39;49m]\n",
      "\u001b[1;31mTypeError\u001b[0m: list indices must be integers or slices, not float"
     ]
    }
   ],
   "source": [
    "list_mix[4.5]"
   ]
  },
  {
   "cell_type": "code",
   "execution_count": null,
   "metadata": {},
   "outputs": [],
   "source": [
    "len(list_mix)\n",
    "len(list_mix[1])"
   ]
  },
  {
   "cell_type": "markdown",
   "metadata": {},
   "source": [
    "**Slicing**"
   ]
  },
  {
   "cell_type": "code",
   "execution_count": 40,
   "metadata": {},
   "outputs": [
    {
     "name": "stdout",
     "output_type": "stream",
     "text": [
      "['Ceren', 2, True, 3.14, 'Ceyda', 6, False]\n",
      "[True, 3.14, 'Ceyda']\n",
      "['Ceren', 2, True, 3.14]\n",
      "['Ceren', True, 'Ceyda', False]\n",
      "[False, 6, 'Ceyda', 3.14, True, 2, 'Ceren']\n"
     ]
    }
   ],
   "source": [
    "print(list_mix)\n",
    "print(list_mix[2:5])\n",
    "print(list_mix[:4])\n",
    "#her iki elemanda bir atlayarak yazsın \n",
    "print(list_mix[::2])\n",
    "#listeyi tersten yazdıralım\n",
    "print(list_mix[::-1])"
   ]
  },
  {
   "cell_type": "code",
   "execution_count": 41,
   "metadata": {},
   "outputs": [
    {
     "name": "stdout",
     "output_type": "stream",
     "text": [
      "['Ceyda', 6, False]\n"
     ]
    }
   ],
   "source": [
    "#4. elemandan sonraki elemanı ekrana bassın\n",
    "print(list_mix[4:])"
   ]
  },
  {
   "cell_type": "code",
   "execution_count": null,
   "metadata": {},
   "outputs": [],
   "source": [
    "#döngü ile listenin elemanlarını ekrana basalım"
   ]
  },
  {
   "cell_type": "markdown",
   "metadata": {},
   "source": [
    "**Listeye eleman ekleme**"
   ]
  },
  {
   "cell_type": "code",
   "execution_count": 42,
   "metadata": {},
   "outputs": [
    {
     "name": "stdout",
     "output_type": "stream",
     "text": [
      "['Ceren', 2, True, 3.14, 'Ceyda', 6, False]\n",
      "['Ceren', 2, True, 3.14, 'Ceyda', 6, False, 10]\n"
     ]
    }
   ],
   "source": [
    "# append listenin sonuna yeni eleman ekler\n",
    "print(list_mix)\n",
    "list_mix.append(10)\n",
    "print(list_mix)"
   ]
  },
  {
   "cell_type": "code",
   "execution_count": 43,
   "metadata": {},
   "outputs": [
    {
     "name": "stdout",
     "output_type": "stream",
     "text": [
      "['Ceren', 2, True, 3.14, 'Ceyda', 6, False, 10]\n",
      "['Nurefşan', 'Ceren', 2, True, 3.14, 'Ceyda', 6, False, 10]\n"
     ]
    }
   ],
   "source": [
    "#insert iki parametre alır ve listenin elemanlarını kaydırır\n",
    "print(list_mix)\n",
    "list_mix.insert(0,\"Nurefşan\")\n",
    "print(list_mix)"
   ]
  },
  {
   "cell_type": "code",
   "execution_count": 44,
   "metadata": {},
   "outputs": [
    {
     "name": "stdout",
     "output_type": "stream",
     "text": [
      "['Nurefşan', 'Ceren', 2, True, 3.14, 'Ceyda', 6, False, 10]\n",
      "['Nurefşan', 'Ceren', 2, True, 3.14, 'Ceyda', 6, False, 10, 1, 2, 3]\n"
     ]
    }
   ],
   "source": [
    "#extend listenin sonuna liste ekler gibi bir şey\n",
    "print(list_mix)\n",
    "list_mix.extend([1,2,3])\n",
    "print(list_mix)"
   ]
  },
  {
   "cell_type": "code",
   "execution_count": 45,
   "metadata": {},
   "outputs": [
    {
     "name": "stdout",
     "output_type": "stream",
     "text": [
      "['Nurefşan', 'Ceren', 2, True, 3.14, 'Ceyda', 6, False, 10, 1, 2, 3]\n",
      "['Nurefşan', 'ilkay', 2, True, 3.14, 'Ceyda', 6, False, 10, 1, 2, 3]\n"
     ]
    }
   ],
   "source": [
    "print(list_mix)\n",
    "list_mix[1] = \"ilkay\"\n",
    "\n",
    "print(list_mix)"
   ]
  }
 ],
 "metadata": {
  "interpreter": {
   "hash": "1aff509eddd52b479e30c10ccc90912ef5d8379779642e264ace48cd13cf40bb"
  },
  "kernelspec": {
   "display_name": "Python 3.9.12 ('base')",
   "language": "python",
   "name": "python3"
  },
  "language_info": {
   "codemirror_mode": {
    "name": "ipython",
    "version": 3
   },
   "file_extension": ".py",
   "mimetype": "text/x-python",
   "name": "python",
   "nbconvert_exporter": "python",
   "pygments_lexer": "ipython3",
   "version": "3.9.12"
  },
  "orig_nbformat": 4
 },
 "nbformat": 4,
 "nbformat_minor": 2
}
